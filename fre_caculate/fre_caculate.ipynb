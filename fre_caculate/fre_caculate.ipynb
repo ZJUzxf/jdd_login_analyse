{
 "cells": [
  {
   "cell_type": "code",
   "execution_count": null,
   "metadata": {
    "collapsed": true
   },
   "outputs": [],
   "source": [
    "import pandas as pd\n",
    "from collections import Counter"
   ]
  },
  {
   "cell_type": "code",
   "execution_count": null,
   "metadata": {
    "collapsed": true
   },
   "outputs": [],
   "source": [
    "login_train=pd.read_csv('t_login.csv')\n",
    "login_test=pd.read_csv('t_login_test.csv')"
   ]
  },
  {
   "cell_type": "code",
   "execution_count": null,
   "metadata": {
    "collapsed": true
   },
   "outputs": [],
   "source": [
    "login=pd.concat([login_train,login_test]).reset_index(drop=True)"
   ]
  },
  {
   "cell_type": "code",
   "execution_count": null,
   "metadata": {
    "collapsed": true
   },
   "outputs": [],
   "source": [
    "user_list=list(set(list(login.id)))"
   ]
  },
  {
   "cell_type": "code",
   "execution_count": null,
   "metadata": {
    "collapsed": true
   },
   "outputs": [],
   "source": [
    "#统计频率\n",
    "for i in range(len(user_list)):\n",
    "    device_fre=pd.DataFrame(columns={'id','device','frequency'})\n",
    "    de=list(login[login.id==user_list[i]]['device'])\n",
    "    c=Counter(de).most_common()\n",
    "    c=dict(c)\n",
    "    device = list(c.keys())\n",
    "    times = list(c.values())\n",
    "    length=len(device)\n",
    "    sumt=sum(times)\n",
    "    fre = [x/sumt for x in times]\n",
    "    device_fre['device']=device\n",
    "    device_fre['id']=user_list[0]\n",
    "    device_fre['frequency']=fre\n",
    "    if i==0:\n",
    "        new=device_fre\n",
    "    else:\n",
    "        new=pd.concat([new,device_fre])\n",
    "new.to_csv('devicefre.csv',index=False)"
   ]
  }
 ],
 "metadata": {
  "kernelspec": {
   "display_name": "Python 2",
   "language": "python",
   "name": "python2"
  },
  "language_info": {
   "codemirror_mode": {
    "name": "ipython",
    "version": 2
   },
   "file_extension": ".py",
   "mimetype": "text/x-python",
   "name": "python",
   "nbconvert_exporter": "python",
   "pygments_lexer": "ipython2",
   "version": "2.7.12"
  }
 },
 "nbformat": 4,
 "nbformat_minor": 2
}
