{
 "cells": [
  {
   "cell_type": "code",
   "execution_count": null,
   "metadata": {
    "collapsed": true
   },
   "outputs": [],
   "source": [
    "import pandas as pd\n",
    "import numpy as np\n",
    "import matplotlib.pyplot as plt\n",
    "import seaborn as sns\n",
    "%matplotlib inline"
   ]
  },
  {
   "cell_type": "code",
   "execution_count": null,
   "metadata": {
    "collapsed": true
   },
   "outputs": [],
   "source": [
    "#导入频率文件\n",
    "cityfre=pd.read_csv('cityfre.csv')\n",
    "devicefre=pd.read_csv('devicefre.csv')\n",
    "ipfre=pd.read_csv('ipfre.csv')"
   ]
  },
  {
   "cell_type": "code",
   "execution_count": null,
   "metadata": {
    "collapsed": true
   },
   "outputs": [],
   "source": [
    "#导入训练登录文件并且添加频率\n",
    "login=pd.read_csv('t_login.csv')\n",
    "login['time']=pd.to_datetime(login['time'])\n",
    "login=login.sort_values(by='id')\n",
    "login=pd.merge(login,cityfre,on=['id','city'])\n",
    "login=pd.merge(login,devicefre,on=['id','device'])\n",
    "login=pd.merge(login,ipfre,on=['id','ip'])"
   ]
  },
  {
   "cell_type": "code",
   "execution_count": null,
   "metadata": {
    "collapsed": true
   },
   "outputs": [],
   "source": [
    "#导入训练交易文件\n",
    "trade=pd.read_csv('t_trade.csv')\n",
    "trade['time']=pd.to_datetime(trade['time'])\n",
    "trade=trade.sort_values(by='id').reset_index(drop=True)\n",
    "#初始化为0\n",
    "trade['city_changed']=0#4\n",
    "trade['device_changed']=0\n",
    "trade['ip_changed']=0\n",
    "trade['result_times']=0\n",
    "trade['login_times']=0\n",
    "trade['trade_times']=0\n",
    "trade['city_times']=0\n",
    "trade['device_times']=0\n",
    "trade['ip_times']=0\n",
    "trade['result_1']=0\n",
    "trade['result_2']=0\n",
    "trade['result_3']=0\n",
    "trade['city_fre']=0#16\n",
    "trade['device_fre']=0\n",
    "trade['ip_fre']=0\n",
    "trade['timelong']=0\n",
    "trade['city']=0\n",
    "trade['device']=0\n",
    "trade['ip']=0"
   ]
  },
  {
   "cell_type": "code",
   "execution_count": null,
   "metadata": {
    "collapsed": true
   },
   "outputs": [],
   "source": [
    "#导入测试训练文件并且添加频率\n",
    "login_test=pd.read_csv('t_login_test.csv')\n",
    "login_test['time']=pd.to_datetime(login_test['time'])\n",
    "login_test=login_test.sort_values(by='id').reset_index(drop=True)\n",
    "login_test=pd.merge(login_test,cityfre,on=['id','city'])\n",
    "login_test=pd.merge(login_test,devicefre,on=['id','device'])\n",
    "login_test=pd.merge(login_test,ipfre,on=['id','ip'])"
   ]
  },
  {
   "cell_type": "code",
   "execution_count": null,
   "metadata": {
    "collapsed": true
   },
   "outputs": [],
   "source": [
    "#导入测试交易文件\n",
    "trade_test=pd.read_csv('t_trade_test.csv')\n",
    "trade_test['time']=pd.to_datetime(trade_test['time'])\n",
    "trade_test=trade_test.sort_values(by='id').reset_index(drop=True)\n",
    "#初始化为0\n",
    "trade_test['city_changed']=0#3\n",
    "trade_test['device_changed']=0\n",
    "trade_test['ip_changed']=0\n",
    "trade_test['result_times']=0\n",
    "trade_test['login_times']=0\n",
    "trade_test['trade_times']=0\n",
    "trade_test['city_times']=0\n",
    "trade_test['device_times']=0\n",
    "trade_test['ip_times']=0\n",
    "trade_test['result_1']=0\n",
    "trade_test['result_2']=0\n",
    "trade_test['result_3']=0\n",
    "trade_test['city_fre']=0#15\n",
    "trade_test['device_fre']=0\n",
    "trade_test['ip_fre']=0\n",
    "trade_test['timelong']=0\n",
    "trade_test['city']=0\n",
    "trade_test['device']=0\n",
    "trade_test['ip']=0"
   ]
  },
  {
   "cell_type": "markdown",
   "metadata": {},
   "source": [
    "step1：提取交易前1h内城市发生变化的，暂定为风险"
   ]
  },
  {
   "cell_type": "code",
   "execution_count": null,
   "metadata": {
    "collapsed": true
   },
   "outputs": [],
   "source": [
    "for j in range(trade_test.shape[0]):\n",
    "    per_id=login_test[login_test.id==trade_test.iloc[j,2]].reset_index(drop=True)\n",
    "    if per_id.empty==True:\n",
    "        continue\n",
    "    list_city=[]\n",
    "    for i in range(per_id.shape[0]):\n",
    "        timecha=trade_test.iloc[j,1]-per_id.time[i]\n",
    "        if timecha.days==0 and timecha.seconds<=3600:\n",
    "            list_city.append(per_id.city[i])\n",
    "    city_only=list(set(list_city))\n",
    "    trade_test.iloc[j,9]=len(city_only)\n",
    "    if len(city_only)>1:\n",
    "        trade_test.iloc[j,3]=1"
   ]
  },
  {
   "cell_type": "markdown",
   "metadata": {
    "collapsed": true
   },
   "source": [
    "step2：提取1h内设备发生变化的"
   ]
  },
  {
   "cell_type": "code",
   "execution_count": null,
   "metadata": {
    "collapsed": true
   },
   "outputs": [],
   "source": [
    "for j in range(trade_test.shape[0]):\n",
    "    per_id=login_test[login_test.id==trade_test.iloc[j,2]].reset_index(drop=True)\n",
    "    if per_id.empty==True:\n",
    "        continue\n",
    "    list_device=[]\n",
    "    for i in range(per_id.shape[0]):\n",
    "        timecha=trade_test.iloc[j,1]-per_id.time[i]\n",
    "        if timecha.days==0 and timecha.seconds<=3600:\n",
    "            list_device.append(per_id.device[i])\n",
    "    device_only=list(set(list_device))\n",
    "    trade_test.iloc[j,10]=len(device_only)\n",
    "    if len(device_only)>1:\n",
    "        trade_test.iloc[j,4]=1"
   ]
  },
  {
   "cell_type": "markdown",
   "metadata": {
    "collapsed": true
   },
   "source": [
    "step3：提取1h内ip发生变化的"
   ]
  },
  {
   "cell_type": "code",
   "execution_count": null,
   "metadata": {
    "collapsed": true
   },
   "outputs": [],
   "source": [
    "for j in range(trade_test.shape[0]):\n",
    "    per_id=login_test[login_test.id==trade_test.iloc[j,2]].reset_index(drop=True)\n",
    "    if per_id.empty==True:\n",
    "        continue\n",
    "    list_ip=[]\n",
    "    for i in range(per_id.shape[0]):\n",
    "        timecha=trade_test.iloc[j,1]-per_id.time[i]\n",
    "        if timecha.days==0 and timecha.seconds<=3600:\n",
    "            list_ip.append(per_id.ip[i])\n",
    "    ip_only=list(set(list_ip))\n",
    "    trade_test.iloc[j,11]=len(ip_only)\n",
    "    if len(ip_only)>1:\n",
    "        trade_test.iloc[j,5]=1"
   ]
  },
  {
   "cell_type": "markdown",
   "metadata": {
    "collapsed": true
   },
   "source": [
    "step4:提取1小时内result结果不成功的次数，以及倒数第一次、第二次、第三次是否登录错误，添加timelong"
   ]
  },
  {
   "cell_type": "code",
   "execution_count": null,
   "metadata": {
    "collapsed": true
   },
   "outputs": [],
   "source": [
    "for j in range(trade_test.shape[0]):\n",
    "    per_id=login_test[login_test.id==trade_test.iloc[j,2]].reset_index(drop=True)\n",
    "    if per_id.empty==True:\n",
    "        continue\n",
    "    list_result=[]\n",
    "    per_id['timetheta']=0\n",
    "    for i in range(per_id.shape[0]):\n",
    "        timecha=trade_test.iloc[j,1]-per_id.time[i]\n",
    "        if timecha.days==0 and timecha.seconds<=3600:\n",
    "            list_result.append(per_id.result[i])\n",
    "            per_id.loc[i,'timetheta']=timecha.seconds\n",
    "    times=0\n",
    "    for m in list_result:\n",
    "        if m!=1:\n",
    "            times=times+1\n",
    "    trade_test.iloc[j,6]=times\n",
    "    per_id=per_id.sort_values(by='timetheta')\n",
    "    trade_test.iloc[j,18]=per_id.iloc[0,1]\n",
    "    y=min(3,per_id.shape[0])\n",
    "    for n in range(y):\n",
    "        trade_test.iloc[j,(12+n)]=per_id.iloc[n,6]"
   ]
  },
  {
   "cell_type": "markdown",
   "metadata": {
    "collapsed": true
   },
   "source": [
    "step5:提取前后1h的登录次数"
   ]
  },
  {
   "cell_type": "code",
   "execution_count": null,
   "metadata": {
    "collapsed": true
   },
   "outputs": [],
   "source": [
    "for j in range(trade_test.shape[0]):\n",
    "    per_id=login_test[login_test.id==trade_test.iloc[j,2]].reset_index(drop=True)\n",
    "    if per_id.empty==True:\n",
    "        continue\n",
    "    times=0\n",
    "    for i in range(per_id.shape[0]):\n",
    "        if trade_test.iloc[j,1]<per_id.time[i]:\n",
    "            timecha=per_id.time[i]-trade_test.iloc[j,1]\n",
    "        else:\n",
    "            timecha=trade_test.iloc[j,1]-per_id.time[i]\n",
    "        if timecha.days==0 and timecha.seconds<=3600:\n",
    "            times=times+1\n",
    "    trade_test.iloc[j,7]=times"
   ]
  },
  {
   "cell_type": "markdown",
   "metadata": {
    "collapsed": true
   },
   "source": [
    "step6:提取1h的交易次数"
   ]
  },
  {
   "cell_type": "code",
   "execution_count": null,
   "metadata": {
    "collapsed": true
   },
   "outputs": [],
   "source": [
    "for j in range(trade_test.shape[0]):\n",
    "    per_id=trade_test[trade_test.id==trade_test.iloc[j,2]].reset_index(drop=True)\n",
    "    if per_id.empty==True:\n",
    "        continue\n",
    "    times=0\n",
    "    for i in range(per_id.shape[0]):\n",
    "        if trade_test.iloc[j,1]<per_id.time[i]:\n",
    "            timecha=per_id.time[i]-trade_test.iloc[j,1]\n",
    "        else:\n",
    "            timecha=trade_test.iloc[j,1]-per_id.time[i]\n",
    "        if timecha.days==0 and timecha.seconds<=3600:\n",
    "            times=times+1\n",
    "    trade_test.iloc[j,8]=times"
   ]
  },
  {
   "cell_type": "markdown",
   "metadata": {
    "collapsed": true
   },
   "source": [
    "step7:凌晨交易"
   ]
  },
  {
   "cell_type": "code",
   "execution_count": null,
   "metadata": {
    "collapsed": true
   },
   "outputs": [],
   "source": [
    "for j in range(trade_test.shape[0]):\n",
    "    hour=trade_test.iloc[j,1].hour\n",
    "    if hour>=2 and hour<=5:\n",
    "        trade_test.iloc[j,9]=1        "
   ]
  },
  {
   "cell_type": "markdown",
   "metadata": {},
   "source": [
    "step8：构造城市、设备、ip、城市频率、设备频率、ip频率特征"
   ]
  },
  {
   "cell_type": "code",
   "execution_count": null,
   "metadata": {
    "collapsed": true
   },
   "outputs": [],
   "source": [
    "#训练集\n",
    "for j in range(trade.shape[0]):\n",
    "    per_id=login[login.id==trade.iloc[j,2]].reset_index(drop=True)\n",
    "    if per_id.empty==True:\n",
    "        continue\n",
    "    per_id['timetheta']=0\n",
    "    m=0\n",
    "    for i in range(per_id.shape[0]):\n",
    "        timecha=trade.iloc[j,1]-per_id.time[i]\n",
    "        if timecha.days==0 and timecha.seconds<=3600:\n",
    "            per_id.loc[i,'timetheta']=timecha.seconds\n",
    "            m=m+1\n",
    "    if m==0:\n",
    "        continue\n",
    "    per_id=per_id.sort_values(by='timetheta')\n",
    "    trade.iloc[j,16:19]=list(per_id.iloc[0,13:16])\n",
    "    trade.iloc[j,20]=per_id.iloc[0,5]\n",
    "    trade.iloc[j,21]=per_id.iloc[0,2]\n",
    "    trade.iloc[j,22]=per_id.iloc[0,4]"
   ]
  },
  {
   "cell_type": "code",
   "execution_count": null,
   "metadata": {
    "collapsed": true
   },
   "outputs": [],
   "source": [
    "#测试集\n",
    "for j in range(trade_test.shape[0]):\n",
    "    per_id=login_test[login_test.id==trade_test.iloc[j,2]].reset_index(drop=True)\n",
    "    if per_id.empty==True:\n",
    "        continue\n",
    "    per_id['timetheta']=0\n",
    "    m=0\n",
    "    for i in range(per_id.shape[0]):\n",
    "        timecha=trade_test.iloc[j,1]-per_id.time[i]\n",
    "        if timecha.days==0 and timecha.seconds<=3600:\n",
    "            per_id.loc[i,'timetheta']=timecha.seconds\n",
    "            m=m+1\n",
    "    if m==0:\n",
    "        continue\n",
    "    per_id=per_id.sort_values(by='timetheta')\n",
    "    trade_test.iloc[j,15:18]=list(per_id.iloc[0,13:16])\n",
    "    trade_test.iloc[j,19]=per_id.iloc[0,5]\n",
    "    trade_test.iloc[j,20]=per_id.iloc[0,2]\n",
    "    trade_test.iloc[j,21]=per_id.iloc[0,4]"
   ]
  },
  {
   "cell_type": "markdown",
   "metadata": {},
   "source": [
    "其他特征：同个ip短时间内登录多个id，上了90"
   ]
  },
  {
   "cell_type": "code",
   "execution_count": null,
   "metadata": {
    "collapsed": true
   },
   "outputs": [],
   "source": [
    "trade_test.to_csv('test_feature.csv')"
   ]
  }
 ],
 "metadata": {
  "kernelspec": {
   "display_name": "Python 2",
   "language": "python",
   "name": "python2"
  },
  "language_info": {
   "codemirror_mode": {
    "name": "ipython",
    "version": 2
   },
   "file_extension": ".py",
   "mimetype": "text/x-python",
   "name": "python",
   "nbconvert_exporter": "python",
   "pygments_lexer": "ipython2",
   "version": "2.7.12"
  }
 },
 "nbformat": 4,
 "nbformat_minor": 2
}
